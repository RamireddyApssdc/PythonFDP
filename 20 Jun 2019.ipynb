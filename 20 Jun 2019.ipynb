{
 "cells": [
  {
   "cell_type": "markdown",
   "metadata": {},
   "source": [
    "### Day Objectives\n",
    "- Regular Expressions\n",
    "    - Constructing Regular Expressions for various cases\n",
    "    - Regular Expressions Module and related Python\n",
    "    - Improving the contacts application with name and phone numbers validation \n",
    "- File Handling\n",
    "    - text files\n",
    "    - Upgrading the Contacts Application to store contact information in a text file"
   ]
  },
  {
   "cell_type": "markdown",
   "metadata": {},
   "source": [
    "### Regular Expressions \n",
    "- Pattern Matching\n",
    "- Symbolic Notation of a Pattern \n",
    "    - Pattern : Format which repeats\n",
    "    - Pattern(RE)- represents The set of all string match that pattern\n",
    "- [0-9] -> ANy digit between 0 to 9\n",
    "- [a-z] -> Any lower case alphabet\n",
    "- [2468] -> All single digit multiple of 2\n",
    "- ^[0-9]{1}$ -> Only single digit numbers\n",
    "\n",
    "- ^[0-9]{3}$ -> only three digit numbers\n",
    "\n",
    "- ^[a-z]{4}$ -> it stops at 4 position of the length\n",
    "\n",
    "- ^[a-z]{4} -> without dollar it takes 4 digits only if we give the 10 digits or characters\n",
    "\n",
    "- ^[1-9][0-9]*0$ -> 10 multiples(without ^ we can'tvalidate character in starting)\n",
    "\n",
    "-    -> All multiples of 5\n",
    "\n",
    "        sol:^[0-9][0-9]*[05]$ or ^[0-9][0-9]*[0,5]$(for single digit ^[1-9]*[0-9]*[05]$)\n",
    "        \n",
    "     -> or conditions:\n",
    "     \n",
    "     ^([1-9]*[0-9]*[05])|([5])$\n",
    "        \n",
    "-    -> All 10 digits  numbers\n",
    "\n",
    "-    -> Searching of wor - \n",
    "\n",
    "-    -> Validating Phone number(India)(start number is 9876 and followed by 9 digitis[0-9]\n",
    "\n",
    "-    -> ^[6-9][0-9]{9}$\n",
    "\n",
    "     -> ^[6-9][0-9]{9}$|^[0][6-9][0-9]{9}\n",
    "     \n",
    "         ^[6-9][0-9]{9}$|^[0][6-9][0-9]{9}$|^[+][91][6-9][0-9]{9}$\n",
    "         output:09502491310\n",
    "                9502491310 both are correct\n",
    "\n",
    "-    -> Email Validation(username@domain.extention)\n",
    "- [p][r][i][n][t]$ it heightlite the end of the string if we give the * in the place of $ it display all given data\n",
    "    - Username:\n",
    "        - Length of username : [6,15]\n",
    "        - No special characters other than . _ -\n",
    "        - it should not begin with ._-\n",
    "        - characters set : all digits and alphabets\n",
    "    - Domain:\n",
    "        - Length of domain : [3,18]\n",
    "    - Extension :\n",
    "        - Length of extension : [2,4]\n",
    "        - no special characters\n",
    "        - Character set : alphabets\n",
    "        sample: ramireddy_1@gmail.com | ramireddy.r@aits.edu.in=(^[0-9a-z][0-9a-z-_.]{4,13}[09a-z]+@+[a-z0-9]{3,18}.+[a-z]{2,4}$) | (^[0-9a-z][0-9a-z-_.]{4,13}[0-9a-z]+@+[a-z0-9]{3,18}.+[a-z]{2,4}.[a-z]{2,4}$)\n",
    "        \n",
    "- ^[a].*[z]$: start with a and end with z in between a and z will be countable\n"
   ]
  },
  {
   "cell_type": "code",
   "execution_count": 7,
   "metadata": {},
   "outputs": [
    {
     "name": "stdout",
     "output_type": "stream",
     "text": [
      "Invalid Number\n"
     ]
    }
   ],
   "source": [
    "# Function to validate a phone number\n",
    "import re\n",
    "def validatePhoneNumber(n):\n",
    "    pattern= '^[6-9][0-9]{9}$|^[0][6-9][0-9]{9}$|^[+][91][6-9][0-9]{9}$'\n",
    "    if re.match(pattern,n):\n",
    "        print(\"Valid Number\")\n",
    "    else:\n",
    "        print(\"Invalid Number\")\n",
    "validatePhoneNumber(\"+919502491310\")"
   ]
  },
  {
   "cell_type": "code",
   "execution_count": 3,
   "metadata": {},
   "outputs": [
    {
     "ename": "NameError",
     "evalue": "name 'validatePhoneNumber' is not defined",
     "output_type": "error",
     "traceback": [
      "\u001b[1;31m---------------------------------------------------------------------------\u001b[0m",
      "\u001b[1;31mNameError\u001b[0m                                 Traceback (most recent call last)",
      "\u001b[1;32m<ipython-input-3-b98da6e552b8>\u001b[0m in \u001b[0;36m<module>\u001b[1;34m\u001b[0m\n\u001b[0;32m      8\u001b[0m         \u001b[0mprint\u001b[0m\u001b[1;33m(\u001b[0m\u001b[1;34m\"Contact %s already exists \"\u001b[0m \u001b[1;33m%\u001b[0m \u001b[0mname\u001b[0m\u001b[1;33m)\u001b[0m\u001b[1;33m\u001b[0m\u001b[1;33m\u001b[0m\u001b[0m\n\u001b[0;32m      9\u001b[0m     \u001b[1;32mreturn\u001b[0m\u001b[1;33m\u001b[0m\u001b[1;33m\u001b[0m\u001b[0m\n\u001b[1;32m---> 10\u001b[1;33m \u001b[0maddContact\u001b[0m\u001b[1;33m(\u001b[0m\u001b[1;34m\"ram\"\u001b[0m\u001b[1;33m,\u001b[0m\u001b[1;36m9502491330\u001b[0m\u001b[1;33m,\u001b[0m\u001b[1;34m\"ramireddy6@gmail.com\"\u001b[0m\u001b[1;33m)\u001b[0m\u001b[1;33m\u001b[0m\u001b[1;33m\u001b[0m\u001b[0m\n\u001b[0m\u001b[0;32m     11\u001b[0m \u001b[1;33m\u001b[0m\u001b[0m\n\u001b[0;32m     12\u001b[0m \u001b[1;31m#addContact(\"ramireddy3\",9502491330)\u001b[0m\u001b[1;33m\u001b[0m\u001b[1;33m\u001b[0m\u001b[1;33m\u001b[0m\u001b[0m\n",
      "\u001b[1;32m<ipython-input-3-b98da6e552b8>\u001b[0m in \u001b[0;36maddContact\u001b[1;34m(name, phone, email)\u001b[0m\n\u001b[0;32m      2\u001b[0m \u001b[1;32mdef\u001b[0m \u001b[0maddContact\u001b[0m\u001b[1;33m(\u001b[0m\u001b[0mname\u001b[0m\u001b[1;33m,\u001b[0m\u001b[0mphone\u001b[0m\u001b[1;33m,\u001b[0m\u001b[0memail\u001b[0m\u001b[1;33m)\u001b[0m\u001b[1;33m:\u001b[0m\u001b[1;33m\u001b[0m\u001b[1;33m\u001b[0m\u001b[0m\n\u001b[0;32m      3\u001b[0m     \u001b[1;31m#verify theat the contact doesnot already exist\u001b[0m\u001b[1;33m\u001b[0m\u001b[1;33m\u001b[0m\u001b[1;33m\u001b[0m\u001b[0m\n\u001b[1;32m----> 4\u001b[1;33m     \u001b[1;32mif\u001b[0m \u001b[0mname\u001b[0m \u001b[1;32mnot\u001b[0m \u001b[1;32min\u001b[0m \u001b[0mcontacts\u001b[0m \u001b[1;32mand\u001b[0m \u001b[0mvalidatePhoneNumber\u001b[0m\u001b[1;33m(\u001b[0m\u001b[0mstr\u001b[0m\u001b[1;33m(\u001b[0m\u001b[0mphone\u001b[0m\u001b[1;33m)\u001b[0m\u001b[1;33m)\u001b[0m\u001b[1;33m:\u001b[0m\u001b[1;33m\u001b[0m\u001b[1;33m\u001b[0m\u001b[0m\n\u001b[0m\u001b[0;32m      5\u001b[0m         \u001b[0mcontacts\u001b[0m\u001b[1;33m[\u001b[0m\u001b[0mname\u001b[0m\u001b[1;33m]\u001b[0m\u001b[1;33m=\u001b[0m\u001b[1;33m[\u001b[0m\u001b[0mphone\u001b[0m\u001b[1;33m,\u001b[0m\u001b[0memail\u001b[0m\u001b[1;33m]\u001b[0m\u001b[1;33m\u001b[0m\u001b[1;33m\u001b[0m\u001b[0m\n\u001b[0;32m      6\u001b[0m         \u001b[0mprint\u001b[0m\u001b[1;33m(\u001b[0m\u001b[1;34m\"Contact %s added \"\u001b[0m \u001b[1;33m%\u001b[0m \u001b[0mname\u001b[0m\u001b[1;33m)\u001b[0m\u001b[1;33m\u001b[0m\u001b[1;33m\u001b[0m\u001b[0m\n",
      "\u001b[1;31mNameError\u001b[0m: name 'validatePhoneNumber' is not defined"
     ]
    }
   ],
   "source": [
    "contacts={\"name1\":[9502491313,'ramireddy4@gmail.com']}\n",
    "def addContact(name,phone):\n",
    "    if not checkContactExists(name):\n",
    "        if validatePhoneNumber(phone):\n",
    "            with open(filename,'a') as f:\n",
    "                line=name+','+phone+','+email+'\\n'\n",
    "                f.write(line)\n",
    "            print(name,'added to contacts')\n",
    "            return\n",
    "        else:\n",
    "            return\n",
    "    else:\n",
    "        print(\"Name already exists\")\n",
    "\n",
    "addContact(\"ramireddy3\",9502491330)\n",
    "\n",
    "'''contacts\n",
    "\n",
    "\n",
    "def searchName(n):\n",
    "    if n in contacts:\n",
    "        print(n,\":\",contacts[n])\n",
    "    else:\n",
    "        print(\"%s does not exists \" % n)\n",
    "searchName(\"ramireddy3\")\n",
    "\n",
    "contacts\n",
    "\n",
    "contacts[\"ramireddy4\"]=9988776655\n",
    "'''\n",
    "contacts"
   ]
  },
  {
   "cell_type": "code",
   "execution_count": 1,
   "metadata": {},
   "outputs": [],
   "source": [
    "def readFile(filename):\n",
    "    f = open(filename,'r')\n",
    "    filedata=f.read()\n",
    "    f.close()\n",
    "    return filedata\n",
    "filename='datafile\\data.txt'\n",
    "#print(readFile(filename))"
   ]
  },
  {
   "cell_type": "code",
   "execution_count": 2,
   "metadata": {},
   "outputs": [
    {
     "ename": "FileNotFoundError",
     "evalue": "[Errno 2] No such file or directory: 'datafile\\\\data.txt'",
     "output_type": "error",
     "traceback": [
      "\u001b[1;31m---------------------------------------------------------------------------\u001b[0m",
      "\u001b[1;31mFileNotFoundError\u001b[0m                         Traceback (most recent call last)",
      "\u001b[1;32m<ipython-input-2-6a7bbb99c18f>\u001b[0m in \u001b[0;36m<module>\u001b[1;34m\u001b[0m\n\u001b[1;32m----> 1\u001b[1;33m \u001b[0mreadFile\u001b[0m\u001b[1;33m(\u001b[0m\u001b[0mfilename\u001b[0m\u001b[1;33m)\u001b[0m\u001b[1;33m\u001b[0m\u001b[1;33m\u001b[0m\u001b[0m\n\u001b[0m",
      "\u001b[1;32m<ipython-input-1-ff1149bb771d>\u001b[0m in \u001b[0;36mreadFile\u001b[1;34m(filename)\u001b[0m\n\u001b[0;32m      1\u001b[0m \u001b[1;32mdef\u001b[0m \u001b[0mreadFile\u001b[0m\u001b[1;33m(\u001b[0m\u001b[0mfilename\u001b[0m\u001b[1;33m)\u001b[0m\u001b[1;33m:\u001b[0m\u001b[1;33m\u001b[0m\u001b[1;33m\u001b[0m\u001b[0m\n\u001b[1;32m----> 2\u001b[1;33m     \u001b[0mf\u001b[0m \u001b[1;33m=\u001b[0m \u001b[0mopen\u001b[0m\u001b[1;33m(\u001b[0m\u001b[0mfilename\u001b[0m\u001b[1;33m,\u001b[0m\u001b[1;34m'r'\u001b[0m\u001b[1;33m)\u001b[0m\u001b[1;33m\u001b[0m\u001b[1;33m\u001b[0m\u001b[0m\n\u001b[0m\u001b[0;32m      3\u001b[0m     \u001b[0mfiledata\u001b[0m\u001b[1;33m=\u001b[0m\u001b[0mf\u001b[0m\u001b[1;33m.\u001b[0m\u001b[0mread\u001b[0m\u001b[1;33m(\u001b[0m\u001b[1;33m)\u001b[0m\u001b[1;33m\u001b[0m\u001b[1;33m\u001b[0m\u001b[0m\n\u001b[0;32m      4\u001b[0m     \u001b[0mf\u001b[0m\u001b[1;33m.\u001b[0m\u001b[0mclose\u001b[0m\u001b[1;33m(\u001b[0m\u001b[1;33m)\u001b[0m\u001b[1;33m\u001b[0m\u001b[1;33m\u001b[0m\u001b[0m\n\u001b[0;32m      5\u001b[0m     \u001b[1;32mreturn\u001b[0m \u001b[0mfiledata\u001b[0m\u001b[1;33m\u001b[0m\u001b[1;33m\u001b[0m\u001b[0m\n",
      "\u001b[1;31mFileNotFoundError\u001b[0m: [Errno 2] No such file or directory: 'datafile\\\\data.txt'"
     ]
    }
   ],
   "source": [
    "readFile(filename)"
   ]
  },
  {
   "cell_type": "code",
   "execution_count": null,
   "metadata": {},
   "outputs": [],
   "source": []
  }
 ],
 "metadata": {
  "kernelspec": {
   "display_name": "Python 3",
   "language": "python",
   "name": "python3"
  },
  "language_info": {
   "codemirror_mode": {
    "name": "ipython",
    "version": 3
   },
   "file_extension": ".py",
   "mimetype": "text/x-python",
   "name": "python",
   "nbconvert_exporter": "python",
   "pygments_lexer": "ipython3",
   "version": "3.7.3"
  }
 },
 "nbformat": 4,
 "nbformat_minor": 2
}
