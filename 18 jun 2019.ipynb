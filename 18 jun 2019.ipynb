{
 "cells": [
  {
   "cell_type": "code",
   "execution_count": 1,
   "metadata": {},
   "outputs": [
    {
     "name": "stdout",
     "output_type": "stream",
     "text": [
      "5 3\n",
      "1 2 3 4 5\n",
      "1 3\n",
      "2\n",
      "2 4\n",
      "3\n",
      "2 5\n",
      "3\n"
     ]
    }
   ],
   "source": [
    "# paly with numbers\n",
    "n = input().split()\n",
    "n[0],n[1]=int(n[0]),int(n[1])\n",
    "a=input().split()\n",
    "sum=[]\n",
    "#cumulative sum\n",
    "for i in range(0,n[0]):\n",
    "    if(i==0):\n",
    "        sum.append(int(a[i]))\n",
    "    else:\n",
    "        sum.append(int(sum[i-1])+int(a[i]))\n",
    "        \n",
    "#print(sum[n[0]-1])\n",
    "del a\n",
    "for i in range(0,n[1]):\n",
    "    inq=input().split()\n",
    "    i=int(inq[0])\n",
    "    j=int(inq[1])\n",
    "    if i>1:\n",
    "        print((sum[j-1]-sum[i-2]) // (j-i+1))\n",
    "    else:\n",
    "        print(sum[j-1]//(j-i+1))  "
   ]
  },
  {
   "cell_type": "code",
   "execution_count": 3,
   "metadata": {},
   "outputs": [
    {
     "data": {
      "text/plain": [
       "True"
      ]
     },
     "execution_count": 3,
     "metadata": {},
     "output_type": "execute_result"
    }
   ],
   "source": [
    "#Prime\n",
    "def isPrime(n):\n",
    "    flag=1\n",
    "    for i in range(2,n//2+1):\n",
    "        if n%i==0:\n",
    "            flag=0\n",
    "            return False\n",
    "    if flag == 1:\n",
    "        return True\n",
    "isPrime(5)"
   ]
  },
  {
   "cell_type": "code",
   "execution_count": 21,
   "metadata": {},
   "outputs": [
    {
     "data": {
      "text/plain": [
       "3"
      ]
     },
     "execution_count": 21,
     "metadata": {},
     "output_type": "execute_result"
    }
   ],
   "source": [
    "#primeFactor\n",
    "def isPrime(n):\n",
    "    flag=1\n",
    "    if n==2:\n",
    "        return True\n",
    "    for i in range(2,n//2+1):\n",
    "        if n%i==0:\n",
    "            flag=0\n",
    "            return False\n",
    "    if flag == 1:\n",
    "        return True\n",
    "def numberPrimeFactors(n):\n",
    "    if isPrime(n):\n",
    "        return 1\n",
    "    count=0\n",
    "    for i in range(2,n//2+1):\n",
    "        if isPrime(i) and n%i==0:\n",
    "            count+=1\n",
    "    return count\n",
    "numberPrimeFactors(30)\n",
    "    "
   ]
  },
  {
   "cell_type": "code",
   "execution_count": 27,
   "metadata": {},
   "outputs": [
    {
     "data": {
      "text/plain": [
       "True"
      ]
     },
     "execution_count": 27,
     "metadata": {},
     "output_type": "execute_result"
    }
   ],
   "source": [
    "#Special number\n",
    "\n",
    "def isSpecialNumber(n,p):\n",
    "    if numberPrimeFactors(n)>=p:\n",
    "        return True\n",
    "    return False\n",
    "    \n",
    "def isPrime(n):\n",
    "    flag=1\n",
    "    if n==2:\n",
    "        return True\n",
    "    for i in range(2,n//2+1):\n",
    "        if n%i==0:\n",
    "            flag=0\n",
    "            return False\n",
    "    if flag == 1:\n",
    "        return True\n",
    "def numberPrimeFactors(n):\n",
    "    if isPrime(n):\n",
    "        return 1\n",
    "    count=0\n",
    "    for i in range(2,n//2+1):\n",
    "        if isPrime(i) and n%i==0:\n",
    "            count+=1\n",
    "    return count\n",
    "isSpecialNumber(6,2)\n",
    "\n",
    "    "
   ]
  },
  {
   "cell_type": "code",
   "execution_count": 29,
   "metadata": {},
   "outputs": [
    {
     "name": "stdout",
     "output_type": "stream",
     "text": [
      "2\n",
      "3\n",
      "6\n",
      "YES\n",
      "1\n",
      "NO\n",
      "0\n",
      "NO\n"
     ]
    }
   ],
   "source": [
    "def solution2():\n",
    "    p=int(input())\n",
    "    t=int(input())\n",
    "    for i in range(0,t):\n",
    "        n=int(input())\n",
    "        if isSpecialNumber(n,p):\n",
    "            print(\"YES\")\n",
    "        else:\n",
    "            print(\"NO\")\n",
    "solution2()"
   ]
  },
  {
   "cell_type": "code",
   "execution_count": 6,
   "metadata": {},
   "outputs": [
    {
     "name": "stdout",
     "output_type": "stream",
     "text": [
      "201\n"
     ]
    }
   ],
   "source": [
    "#highest Remainder\n",
    "\n",
    "def highestRemainder(n):\n",
    "    hr=0\n",
    "    value=n\n",
    "    for i in range(n-1,n//2,-1):\n",
    "        r = n%i\n",
    "        if r>hr:\n",
    "            hr=r\n",
    "            v=i\n",
    "            \n",
    "    print(v)\n",
    "    return\n",
    "\n",
    "highestRemainder(400)        "
   ]
  },
  {
   "cell_type": "markdown",
   "metadata": {},
   "source": [
    "## Tuples\n",
    "t1=()\n",
    "\n",
    "immutable \n",
    "\n",
    "difference between Lists and Tuples\n",
    "lists are mutable - can be changed/modified\n",
    "- access modify and delete the data will perform in lists\n",
    "\n",
    "Tuples are immutable - Can't be changed once initialised\n",
    "\n",
    "- Tuples are generaly used to access data only(view)\n",
    "- slicing work will work\n"
   ]
  },
  {
   "cell_type": "code",
   "execution_count": 4,
   "metadata": {},
   "outputs": [
    {
     "data": {
      "text/plain": [
       "(35, 55, 65)"
      ]
     },
     "execution_count": 4,
     "metadata": {},
     "output_type": "execute_result"
    }
   ],
   "source": [
    "t2=(12,23,34,35,55,65)\n",
    "t2\n",
    "t2[2]#accessing the second element\n",
    "t2[::]#accessing the all elements\n",
    "t2[len(t2)//2:]#accessing the values from half of the given length"
   ]
  },
  {
   "cell_type": "code",
   "execution_count": 6,
   "metadata": {},
   "outputs": [
    {
     "data": {
      "text/plain": [
       "{'g', 'j', 'o'}"
      ]
     },
     "execution_count": 6,
     "metadata": {},
     "output_type": "execute_result"
    }
   ],
   "source": [
    "s={\"g\",\"j\",\"o\"}\n",
    "s"
   ]
  },
  {
   "cell_type": "code",
   "execution_count": 17,
   "metadata": {},
   "outputs": [
    {
     "name": "stdout",
     "output_type": "stream",
     "text": [
      "['fght ', '678v']\n"
     ]
    }
   ],
   "source": [
    "thisset = {\"apple\", \"banana\", \"cherry\"}\n",
    "s=\"fght 5678v\"\n",
    "l=list(s.split())\n",
    "# for x in thisset:\n",
    "#     if x not in l:\n",
    "#         l.append(x)\n",
    "print(l)"
   ]
  },
  {
   "cell_type": "code",
   "execution_count": 40,
   "metadata": {},
   "outputs": [
    {
     "data": {
      "text/plain": [
       "tuple"
      ]
     },
     "execution_count": 40,
     "metadata": {},
     "output_type": "execute_result"
    }
   ],
   "source": [
    "type(t2)"
   ]
  },
  {
   "cell_type": "markdown",
   "metadata": {},
   "source": [
    "### Dictionaries \n",
    "\n",
    "It works on the concept of set \n",
    "\n",
    "Unique data \n",
    "\n",
    "keys,values\n",
    "\n",
    "key is the unique identifier for the value\n",
    "\n",
    "value is data that can be accessed with a key\n",
    "\n",
    "\n"
   ]
  },
  {
   "cell_type": "code",
   "execution_count": 59,
   "metadata": {},
   "outputs": [
    {
     "data": {
      "text/plain": [
       "'value2'"
      ]
     },
     "execution_count": 59,
     "metadata": {},
     "output_type": "execute_result"
    }
   ],
   "source": [
    "d1={\"key\":\"value\",\"key1\":\"value\",\"key2\":\"value2\"}\n",
    "d1[\"key2\"]"
   ]
  },
  {
   "cell_type": "code",
   "execution_count": 57,
   "metadata": {},
   "outputs": [
    {
     "data": {
      "text/plain": [
       "'duplicatekey'"
      ]
     },
     "execution_count": 57,
     "metadata": {},
     "output_type": "execute_result"
    }
   ],
   "source": [
    "d2={\"key\":\"value\",\"key2\":\"value1\",\"key2\":\"duplicatekey\"}\n",
    "d2[\"key2\"]"
   ]
  },
  {
   "cell_type": "code",
   "execution_count": 64,
   "metadata": {},
   "outputs": [
    {
     "data": {
      "text/plain": [
       "dict_items([('key', 'value'), ('key1', 'value'), ('key2', 'value2')])"
      ]
     },
     "execution_count": 64,
     "metadata": {},
     "output_type": "execute_result"
    }
   ],
   "source": [
    "d1[\"key\"]\n",
    "d1.values()#returns list of all values\n",
    "d1.keys()#returns list of all keys\n",
    "d1.items()#returns list of tuples of keys and values"
   ]
  },
  {
   "cell_type": "code",
   "execution_count": 69,
   "metadata": {},
   "outputs": [],
   "source": [
    "d1[\"key3\"]=\"value3\"\n",
    "d1[\"key3\"]=\"value3Update\"\n"
   ]
  },
  {
   "cell_type": "code",
   "execution_count": 70,
   "metadata": {},
   "outputs": [
    {
     "data": {
      "text/plain": [
       "{'key': 'value', 'key1': 'value', 'key2': 'value2', 'key3': 'value3Update'}"
      ]
     },
     "execution_count": 70,
     "metadata": {},
     "output_type": "execute_result"
    }
   ],
   "source": [
    "d1\n"
   ]
  },
  {
   "cell_type": "code",
   "execution_count": 67,
   "metadata": {},
   "outputs": [
    {
     "data": {
      "text/plain": [
       "'value3'"
      ]
     },
     "execution_count": 67,
     "metadata": {},
     "output_type": "execute_result"
    }
   ],
   "source": [
    "d1.pop(\"key3\")#Removing an element"
   ]
  },
  {
   "cell_type": "code",
   "execution_count": 71,
   "metadata": {},
   "outputs": [
    {
     "data": {
      "text/plain": [
       "{'key': 'value', 'key1': 'value', 'key2': 'value2', 'key3': 'value3Update'}"
      ]
     },
     "execution_count": 71,
     "metadata": {},
     "output_type": "execute_result"
    }
   ],
   "source": [
    "d1"
   ]
  },
  {
   "cell_type": "code",
   "execution_count": 77,
   "metadata": {},
   "outputs": [
    {
     "data": {
      "text/plain": [
       "False"
      ]
     },
     "execution_count": 77,
     "metadata": {},
     "output_type": "execute_result"
    }
   ],
   "source": [
    "\"key3\" in d1# for searching \n",
    "#\"value\" in d1\n"
   ]
  },
  {
   "cell_type": "markdown",
   "metadata": {},
   "source": [
    "## Contacts\n",
    "- add contact\n",
    "- search for contact\n",
    "- List all contacts\n",
    "- modify contact\n",
    "- Remove Contact\n",
    "- "
   ]
  },
  {
   "cell_type": "code",
   "execution_count": 27,
   "metadata": {},
   "outputs": [
    {
     "name": "stdout",
     "output_type": "stream",
     "text": [
      "Contact ramireddy4 added \n"
     ]
    },
    {
     "data": {
      "text/plain": [
       "{'ramireddy4': 9502491330}"
      ]
     },
     "execution_count": 27,
     "metadata": {},
     "output_type": "execute_result"
    }
   ],
   "source": [
    "contacts={}\n",
    "def addContact(name,phone):\n",
    "    #verify theat the contact doesnot already exist\n",
    "    if name not in contacts:\n",
    "        contacts[name]=phone\n",
    "        print(\"Contact %s added \" % name)\n",
    "    else:\n",
    "        print(\"Contact %s already exists \" % name)\n",
    "    return\n",
    "addContact(\"ramireddy4\",9502491330)\n",
    "contacts"
   ]
  },
  {
   "cell_type": "code",
   "execution_count": 31,
   "metadata": {
    "scrolled": true
   },
   "outputs": [
    {
     "name": "stdout",
     "output_type": "stream",
     "text": [
      "Contact ramireddy1 added \n"
     ]
    }
   ],
   "source": [
    "addContact(\"ramireddy1\",9502491330)"
   ]
  },
  {
   "cell_type": "code",
   "execution_count": 29,
   "metadata": {},
   "outputs": [
    {
     "data": {
      "text/plain": [
       "{'ramireddy4': 9502491330, 'ramireddy3': 9502491330}"
      ]
     },
     "execution_count": 29,
     "metadata": {},
     "output_type": "execute_result"
    }
   ],
   "source": [
    "contacts\n"
   ]
  },
  {
   "cell_type": "code",
   "execution_count": 36,
   "metadata": {},
   "outputs": [
    {
     "name": "stdout",
     "output_type": "stream",
     "text": [
      "ramireddy1 : 9502491330\n"
     ]
    }
   ],
   "source": [
    "def searchName(n):\n",
    "    if n in contacts:\n",
    "        print(\"%s :\"%n,contacts[n])#n,\":\",contacts[n])\n",
    "    else:\n",
    "        print(\"%s does not exists \" % n)\n",
    "searchName(\"ramireddy1\")"
   ]
  },
  {
   "cell_type": "code",
   "execution_count": 111,
   "metadata": {},
   "outputs": [
    {
     "data": {
      "text/plain": [
       "{'ramireddy4': 9502491330}"
      ]
     },
     "execution_count": 111,
     "metadata": {},
     "output_type": "execute_result"
    }
   ],
   "source": [
    "contacts"
   ]
  },
  {
   "cell_type": "code",
   "execution_count": 116,
   "metadata": {},
   "outputs": [],
   "source": [
    "contacts[\"ramireddy4\"]=9988776655"
   ]
  },
  {
   "cell_type": "code",
   "execution_count": 113,
   "metadata": {},
   "outputs": [
    {
     "data": {
      "text/plain": [
       "{'ramireddy4': 9988776655}"
      ]
     },
     "execution_count": 113,
     "metadata": {},
     "output_type": "execute_result"
    }
   ],
   "source": [
    "contacts"
   ]
  },
  {
   "cell_type": "code",
   "execution_count": 114,
   "metadata": {},
   "outputs": [
    {
     "data": {
      "text/plain": [
       "9988776655"
      ]
     },
     "execution_count": 114,
     "metadata": {},
     "output_type": "execute_result"
    }
   ],
   "source": [
    "contacts.pop(\"ramireddy4\")"
   ]
  },
  {
   "cell_type": "code",
   "execution_count": 117,
   "metadata": {},
   "outputs": [
    {
     "data": {
      "text/plain": [
       "{'ramireddy4': 9988776655}"
      ]
     },
     "execution_count": 117,
     "metadata": {},
     "output_type": "execute_result"
    }
   ],
   "source": [
    "contacts"
   ]
  },
  {
   "cell_type": "code",
   "execution_count": 118,
   "metadata": {},
   "outputs": [
    {
     "name": "stdout",
     "output_type": "stream",
     "text": [
      "2 Contacts are added\n"
     ]
    }
   ],
   "source": [
    "def importContacts(newContacts):\n",
    "    contacts.update(newContacts)\n",
    "    print(len(newContacts.keys()),\"Contacts are added\")\n",
    "    return\n",
    "newContacts={\"name2\":9900887766,\"name3\":8899007766}\n",
    "importContacts(newContacts)\n"
   ]
  },
  {
   "cell_type": "code",
   "execution_count": 119,
   "metadata": {},
   "outputs": [
    {
     "data": {
      "text/plain": [
       "{'ramireddy4': 9988776655, 'name2': 9900887766, 'name3': 8899007766}"
      ]
     },
     "execution_count": 119,
     "metadata": {},
     "output_type": "execute_result"
    }
   ],
   "source": [
    "contacts"
   ]
  },
  {
   "cell_type": "markdown",
   "metadata": {},
   "source": [
    "## Packages and Modules\n",
    "\n",
    "**Package** -> Collection of Modules(Python File.py)\n",
    "\n",
    "**sub Package**->\n",
    "\n",
    "**Module** -> A Single Python file containing functions\n",
    "\n",
    "Package->sub Package->modules->functions"
   ]
  },
  {
   "cell_type": "code",
   "execution_count": 2,
   "metadata": {},
   "outputs": [
    {
     "data": {
      "text/plain": [
       "143"
      ]
     },
     "execution_count": 2,
     "metadata": {},
     "output_type": "execute_result"
    }
   ],
   "source": [
    "import math \n",
    "math.floor(143.143)"
   ]
  },
  {
   "cell_type": "code",
   "execution_count": 134,
   "metadata": {},
   "outputs": [
    {
     "data": {
      "text/plain": [
       "123"
      ]
     },
     "execution_count": 134,
     "metadata": {},
     "output_type": "execute_result"
    }
   ],
   "source": [
    "from math import floor as ramireddy\n",
    "floor(1234.1234)\n",
    "pi\n",
    "ramireddy(123.456)"
   ]
  },
  {
   "cell_type": "code",
   "execution_count": 125,
   "metadata": {},
   "outputs": [
    {
     "data": {
      "text/plain": [
       "3.141592653589793"
      ]
     },
     "execution_count": 125,
     "metadata": {},
     "output_type": "execute_result"
    }
   ],
   "source": [
    "math.pi"
   ]
  },
  {
   "cell_type": "code",
   "execution_count": 162,
   "metadata": {},
   "outputs": [
    {
     "data": {
      "text/plain": [
       "[55, 10, 63, 31, 11, 99, 98, 36, 83, 10]"
      ]
     },
     "execution_count": 162,
     "metadata": {},
     "output_type": "execute_result"
    }
   ],
   "source": [
    "# Function to generate N random Number\n",
    "\n",
    "import random\n",
    "s=[]\n",
    "def generateNRandomNumber(n,lb,ub):\n",
    "    \n",
    "    for i in range(0,n):\n",
    "        #print(random.randint(lb,ub),end=\" \")\n",
    "        s.append(random.randint(lb,ub))\n",
    "    \n",
    "generateNRandomNumber(10,0,100)\n",
    "s\n",
    "        "
   ]
  },
  {
   "cell_type": "code",
   "execution_count": null,
   "metadata": {},
   "outputs": [],
   "source": []
  },
  {
   "cell_type": "code",
   "execution_count": 10,
   "metadata": {},
   "outputs": [
    {
     "data": {
      "text/plain": [
       "3"
      ]
     },
     "execution_count": 10,
     "metadata": {},
     "output_type": "execute_result"
    }
   ],
   "source": [
    "from packages import numerical as ramireddy\n",
    "ramireddy.isPrime(7)\n",
    "ramireddy.numberPrimeFactors(10134)"
   ]
  },
  {
   "cell_type": "code",
   "execution_count": 1,
   "metadata": {},
   "outputs": [
    {
     "name": "stdout",
     "output_type": "stream",
     "text": [
      "ramireddy\n",
      "rammiredy\n"
     ]
    },
    {
     "data": {
      "text/plain": [
       "2"
      ]
     },
     "execution_count": 1,
     "metadata": {},
     "output_type": "execute_result"
    }
   ],
   "source": [
    "str1 = input()\n",
    "str2 = input()\n",
    "def makeAnagram(a, b): \n",
    "    r = [0] * 26\n",
    "    for char in a: \n",
    "        r[ord(char) - ord('a')] += 1\n",
    "    for char in b: \n",
    "        r[ord(char) - ord('a')] -= 1\n",
    "    return sum(map(abs, r)) \n",
    "makeAnagram(str1, str2)"
   ]
  },
  {
   "cell_type": "code",
   "execution_count": 37,
   "metadata": {},
   "outputs": [
    {
     "data": {
      "text/plain": [
       "['__class__',\n",
       " '__contains__',\n",
       " '__delattr__',\n",
       " '__delitem__',\n",
       " '__dir__',\n",
       " '__doc__',\n",
       " '__eq__',\n",
       " '__format__',\n",
       " '__ge__',\n",
       " '__getattribute__',\n",
       " '__getitem__',\n",
       " '__gt__',\n",
       " '__hash__',\n",
       " '__init__',\n",
       " '__init_subclass__',\n",
       " '__iter__',\n",
       " '__le__',\n",
       " '__len__',\n",
       " '__lt__',\n",
       " '__ne__',\n",
       " '__new__',\n",
       " '__reduce__',\n",
       " '__reduce_ex__',\n",
       " '__repr__',\n",
       " '__setattr__',\n",
       " '__setitem__',\n",
       " '__sizeof__',\n",
       " '__str__',\n",
       " '__subclasshook__',\n",
       " 'clear',\n",
       " 'copy',\n",
       " 'fromkeys',\n",
       " 'get',\n",
       " 'items',\n",
       " 'keys',\n",
       " 'pop',\n",
       " 'popitem',\n",
       " 'setdefault',\n",
       " 'update',\n",
       " 'values']"
      ]
     },
     "execution_count": 37,
     "metadata": {},
     "output_type": "execute_result"
    }
   ],
   "source": [
    "dir(dict)"
   ]
  },
  {
   "cell_type": "code",
   "execution_count": 40,
   "metadata": {},
   "outputs": [
    {
     "data": {
      "text/plain": [
       "{'name': 'Ram', 'roll': 573}"
      ]
     },
     "execution_count": 40,
     "metadata": {},
     "output_type": "execute_result"
    }
   ],
   "source": [
    "d={\"name\":\"Ram\",\"roll\":573}\n",
    "d"
   ]
  },
  {
   "cell_type": "code",
   "execution_count": 41,
   "metadata": {},
   "outputs": [],
   "source": [
    "d1=d.copy()"
   ]
  },
  {
   "cell_type": "code",
   "execution_count": 46,
   "metadata": {},
   "outputs": [
    {
     "data": {
      "text/plain": [
       "{'name': 'Ram', 'roll': 573}"
      ]
     },
     "execution_count": 46,
     "metadata": {},
     "output_type": "execute_result"
    }
   ],
   "source": [
    "d1"
   ]
  },
  {
   "cell_type": "code",
   "execution_count": 48,
   "metadata": {},
   "outputs": [
    {
     "data": {
      "text/plain": [
       "{'name': 'Ram', 'roll': 573}"
      ]
     },
     "execution_count": 48,
     "metadata": {},
     "output_type": "execute_result"
    }
   ],
   "source": [
    "d1"
   ]
  },
  {
   "cell_type": "code",
   "execution_count": 51,
   "metadata": {},
   "outputs": [
    {
     "data": {
      "text/plain": [
       "'Ram'"
      ]
     },
     "execution_count": 51,
     "metadata": {},
     "output_type": "execute_result"
    }
   ],
   "source": [
    "d1.pop(\"name\")"
   ]
  },
  {
   "cell_type": "code",
   "execution_count": 52,
   "metadata": {},
   "outputs": [
    {
     "data": {
      "text/plain": [
       "('roll', 573)"
      ]
     },
     "execution_count": 52,
     "metadata": {},
     "output_type": "execute_result"
    }
   ],
   "source": [
    "d1.popitem()"
   ]
  },
  {
   "cell_type": "code",
   "execution_count": 53,
   "metadata": {},
   "outputs": [],
   "source": [
    "d1=d"
   ]
  },
  {
   "cell_type": "code",
   "execution_count": 54,
   "metadata": {},
   "outputs": [
    {
     "data": {
      "text/plain": [
       "{'name': 'Ram', 'roll': 573}"
      ]
     },
     "execution_count": 54,
     "metadata": {},
     "output_type": "execute_result"
    }
   ],
   "source": [
    "d1"
   ]
  },
  {
   "cell_type": "code",
   "execution_count": 55,
   "metadata": {},
   "outputs": [],
   "source": [
    "del d1"
   ]
  },
  {
   "cell_type": "code",
   "execution_count": 57,
   "metadata": {},
   "outputs": [],
   "source": [
    "d1=d"
   ]
  },
  {
   "cell_type": "code",
   "execution_count": 58,
   "metadata": {},
   "outputs": [
    {
     "data": {
      "text/plain": [
       "dict_keys(['name', 'roll'])"
      ]
     },
     "execution_count": 58,
     "metadata": {},
     "output_type": "execute_result"
    }
   ],
   "source": [
    "d.keys()"
   ]
  },
  {
   "cell_type": "code",
   "execution_count": 63,
   "metadata": {},
   "outputs": [
    {
     "data": {
      "text/plain": [
       "{'r': None, 'a': None, 'm': None}"
      ]
     },
     "execution_count": 63,
     "metadata": {},
     "output_type": "execute_result"
    }
   ],
   "source": [
    "d.fromkeys('ram')"
   ]
  },
  {
   "cell_type": "code",
   "execution_count": 65,
   "metadata": {},
   "outputs": [
    {
     "name": "stdout",
     "output_type": "stream",
     "text": [
      "person =  {'name': 'Phill', 'age': 22}\n",
      "Age =  22\n"
     ]
    }
   ],
   "source": [
    "person = {'name': 'Phill', 'age': 22}\n",
    "\n",
    "age = person.setdefault('age')\n",
    "print('person = ',person)\n",
    "print('Age = ',age)"
   ]
  },
  {
   "cell_type": "code",
   "execution_count": 72,
   "metadata": {},
   "outputs": [
    {
     "name": "stdout",
     "output_type": "stream",
     "text": [
      "{'Math': 55, 'English': 55, 'Science': 55}\n",
      "('Math', 55)\n",
      "('English', 55)\n",
      "('Science', 55)\n"
     ]
    },
    {
     "data": {
      "text/plain": [
       "['English', 'Math', 'Science']"
      ]
     },
     "execution_count": 72,
     "metadata": {},
     "output_type": "execute_result"
    }
   ],
   "source": [
    "marks = {}.fromkeys(['Math','English','Science'], 55)\n",
    "\n",
    "# Output: {'English': 0, 'Math': 0, 'Science': 0}\n",
    "print(marks)\n",
    "\n",
    "for item in marks.items():\n",
    "    print(item)\n",
    "\n",
    "# Output: ['English', 'Math', 'Science']\n",
    "list(sorted(marks.keys()))"
   ]
  },
  {
   "cell_type": "code",
   "execution_count": null,
   "metadata": {},
   "outputs": [],
   "source": []
  }
 ],
 "metadata": {
  "kernelspec": {
   "display_name": "Python 3",
   "language": "python",
   "name": "python3"
  },
  "language_info": {
   "codemirror_mode": {
    "name": "ipython",
    "version": 3
   },
   "file_extension": ".py",
   "mimetype": "text/x-python",
   "name": "python",
   "nbconvert_exporter": "python",
   "pygments_lexer": "ipython3",
   "version": "3.7.3"
  }
 },
 "nbformat": 4,
 "nbformat_minor": 2
}
